{
  "nbformat": 4,
  "nbformat_minor": 0,
  "metadata": {
    "colab": {
      "provenance": [],
      "include_colab_link": true
    },
    "kernelspec": {
      "name": "python3",
      "display_name": "Python 3"
    },
    "accelerator": "GPU"
  },
  "cells": [
    {
      "cell_type": "markdown",
      "metadata": {
        "id": "view-in-github",
        "colab_type": "text"
      },
      "source": [
        "<a href=\"https://colab.research.google.com/github/kwon76/test-repo/blob/main/2%EC%A3%BC%EC%B0%A8_201910312_%EA%B6%8C%EC%A4%80%ED%98%81.ipynb\" target=\"_parent\"><img src=\"https://colab.research.google.com/assets/colab-badge.svg\" alt=\"Open In Colab\"/></a>"
      ]
    },
    {
      "cell_type": "code",
      "metadata": {
        "id": "FdZnDI8azinw",
        "colab": {
          "base_uri": "https://localhost:8080/"
        },
        "outputId": "3df132ac-f34a-4f38-f1f2-d0056348cf61"
      },
      "source": [
        "from google.colab import drive\n",
        "drive.mount(\"/gdrive\", force_remount=True)"
      ],
      "execution_count": null,
      "outputs": [
        {
          "output_type": "stream",
          "name": "stdout",
          "text": [
            "Mounted at /gdrive\n"
          ]
        }
      ]
    },
    {
      "cell_type": "code",
      "metadata": {
        "id": "JBGiT1Qw_Qzo",
        "colab": {
          "base_uri": "https://localhost:8080/"
        },
        "outputId": "2e27f595-6fd0-45d5-f15a-51d4f4c0666f"
      },
      "source": [
        "import numpy as np\n",
        "import torch\n",
        "\n",
        "# 데이터 읽기 함수\n",
        "def load_dataset(file):\n",
        "\n",
        "  data = np.loadtxt(file) # 3행 2열짜리 numpy array로 들어오게 됨\n",
        "  print(\"DATA=\",data)\n",
        "\n",
        "  # data slicing (list와 사용법이 거의 유사)\n",
        "  x = data[:,0:-1] # '모든 행에서'(:) '0번째 열'(0)을 가져오는\n",
        "  # 왜 0이 아니라 0:-1로 했을까? -> 0번째부터 맨 마지막 index라는 뜻 -> 0:1과 똑같음 -> 0번째부터 1번째 '앞'까지 slicing -> 0번째 열만 slicing하는 것과 동치\n",
        "  # data가 만약에 다차원일 경우 Y data 바로 직전 열까지 slicing 해야되므로 [:,0:-1]을 사용\n",
        "  print(\"X=\",x)\n",
        "\n",
        "  y = np.reshape(data[:,-1],(3,1))\n",
        "  # reshape를 하게 되면 [1, 2, 3] 꼴로 가져오게 됨. -> reshape(. , (3,1))을 하게 되면 3행 1열 꼴로 가져오게 됨.\n",
        "  # reshape을 통해 X와 같은 행과 열 꼴로 바꿔줌.\n",
        "  print(\"Y=\",y)\n",
        "\n",
        "  # 텐서로 변경 ; 고차원의 array로 바꿔주는 작업. torch의 tensor 형태로 바꿔줘야 torch가 받아들임(numpy.array 형태 못 받음)\n",
        "  x = torch.tensor(x, dtype = torch.float) # tensor로 바꿀 때, 어떤 data type으로 바꿀 것인지 두 번째 인자값으로 넣어줌\n",
        "  y = torch.tensor(y, dtype = torch.float)\n",
        "\n",
        "  return (x, y) #tuple 형태로\n",
        "\n",
        "# list와 tuple의 차이? -> list는 index 접근으로 수정 가능, tuple은 index 접근으로 수정 불가능\n",
        "\n",
        "# 텐서를 리스트로 바꾸는 함수 (많이 쓰게 될 예정. 이거 그대로 쓰면 됨)\n",
        "# tensor 내부의 값을 보고 싶을 때 사용하는 함수\n",
        "def tensor2list(input_tensor):\n",
        "  return input_tensor.cpu().detach().numpy().tolist()\n",
        "\n",
        "x, y = load_dataset(\"/gdrive/My Drive/machinelearning/2주차/train2.txt\")\n",
        "\n",
        "# 가중치 초기화\n",
        "w = torch.randn(1)*3.0 #randn(1) : 정규분포에 따라서 -1~1 사이의 값을 random 하게 줌\n",
        "print(\"\\nInit: w = {0}\\n\".format(tensor2list(w)))\n",
        "\n",
        "# 학습률\n",
        "alpha = 0.1\n",
        "\n",
        "# 학습데이터 수\n",
        "m = y.size(0) # 3이 나올거임 (hard coding)\n",
        "\n",
        "# 모든 데이터를 1번 다 돈 것을 'epoch'이라 함.\n",
        "\n",
        "for epoch in range(50): # 50번 반복 ; range(50) = [0:50]\n",
        "\n",
        "  cost = 0\n",
        "\n",
        "  for i in range(m):\n",
        "    cost = cost + ((w * x[i]) - y[i]) * x[i]\n",
        "    # 원래였으면 W는 행렬!\n",
        "    # pairwise multiplication vs dot product -> w.dot(x[i])\n",
        "\n",
        "  cost = 1/m * cost\n",
        "\n",
        "  w = w - alpha * cost\n",
        "\n",
        "  # {0:d} : decimal 형태로 0번째 인자값(epoch+1) 출력하라는 뜻\n",
        "  # .format는 string 타입의 메소드\n",
        "  print(\"Epoch {0:d}: w = {1}\".format(epoch+1,tensor2list(w)))\n",
        "\n",
        "# X 차원을 2차원으로 바꿔서 제출하면 10점"
      ],
      "execution_count": null,
      "outputs": [
        {
          "output_type": "stream",
          "name": "stdout",
          "text": [
            "DATA= [[1. 1.]\n",
            " [2. 2.]\n",
            " [3. 3.]]\n",
            "X= [[1.]\n",
            " [2.]\n",
            " [3.]]\n",
            "Y= [[1.]\n",
            " [2.]\n",
            " [3.]]\n",
            "\n",
            "Init: w = [4.423089981079102]\n",
            "\n",
            "Epoch 1: w = [2.8256478309631348]\n",
            "Epoch 2: w = [1.9736788272857666]\n",
            "Epoch 3: w = [1.519295334815979]\n",
            "Epoch 4: w = [1.2769575119018555]\n",
            "Epoch 5: w = [1.1477106809616089]\n",
            "Epoch 6: w = [1.0787789821624756]\n",
            "Epoch 7: w = [1.0420154333114624]\n",
            "Epoch 8: w = [1.0224082469940186]\n",
            "Epoch 9: w = [1.0119510889053345]\n",
            "Epoch 10: w = [1.0063738822937012]\n",
            "Epoch 11: w = [1.00339937210083]\n",
            "Epoch 12: w = [1.0018130540847778]\n",
            "Epoch 13: w = [1.0009669065475464]\n",
            "Epoch 14: w = [1.0005156993865967]\n",
            "Epoch 15: w = [1.0002750158309937]\n",
            "Epoch 16: w = [1.0001466274261475]\n",
            "Epoch 17: w = [1.0000782012939453]\n",
            "Epoch 18: w = [1.0000417232513428]\n",
            "Epoch 19: w = [1.000022292137146]\n",
            "Epoch 20: w = [1.000011920928955]\n",
            "Epoch 21: w = [1.0000063180923462]\n",
            "Epoch 22: w = [1.0000033378601074]\n",
            "Epoch 23: w = [1.0000017881393433]\n",
            "Epoch 24: w = [1.0000009536743164]\n",
            "Epoch 25: w = [1.0000004768371582]\n",
            "Epoch 26: w = [1.000000238418579]\n",
            "Epoch 27: w = [1.0000001192092896]\n",
            "Epoch 28: w = [1.0]\n",
            "Epoch 29: w = [1.0]\n",
            "Epoch 30: w = [1.0]\n",
            "Epoch 31: w = [1.0]\n",
            "Epoch 32: w = [1.0]\n",
            "Epoch 33: w = [1.0]\n",
            "Epoch 34: w = [1.0]\n",
            "Epoch 35: w = [1.0]\n",
            "Epoch 36: w = [1.0]\n",
            "Epoch 37: w = [1.0]\n",
            "Epoch 38: w = [1.0]\n",
            "Epoch 39: w = [1.0]\n",
            "Epoch 40: w = [1.0]\n",
            "Epoch 41: w = [1.0]\n",
            "Epoch 42: w = [1.0]\n",
            "Epoch 43: w = [1.0]\n",
            "Epoch 44: w = [1.0]\n",
            "Epoch 45: w = [1.0]\n",
            "Epoch 46: w = [1.0]\n",
            "Epoch 47: w = [1.0]\n",
            "Epoch 48: w = [1.0]\n",
            "Epoch 49: w = [1.0]\n",
            "Epoch 50: w = [1.0]\n"
          ]
        }
      ]
    }
  ]
}