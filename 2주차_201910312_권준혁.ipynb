{
  "nbformat": 4,
  "nbformat_minor": 0,
  "metadata": {
    "colab": {
      "provenance": [],
      "include_colab_link": true
    },
    "kernelspec": {
      "name": "python3",
      "display_name": "Python 3"
    },
    "accelerator": "GPU"
  },
  "cells": [
    {
      "cell_type": "markdown",
      "metadata": {
        "id": "view-in-github",
        "colab_type": "text"
      },
      "source": [
        "<a href=\"https://colab.research.google.com/github/kwon76/test-repo/blob/main/2%EC%A3%BC%EC%B0%A8_201910312_%EA%B6%8C%EC%A4%80%ED%98%81.ipynb\" target=\"_parent\"><img src=\"https://colab.research.google.com/assets/colab-badge.svg\" alt=\"Open In Colab\"/></a>"
      ]
    },
    {
      "cell_type": "code",
      "metadata": {
        "id": "FdZnDI8azinw",
        "colab": {
          "base_uri": "https://localhost:8080/"
        },
        "outputId": "739e9b77-3afb-422b-c46d-dd60d5c4ede8"
      },
      "source": [
        "from google.colab import drive\n",
        "drive.mount(\"/gdrive\", force_remount=True)"
      ],
      "execution_count": 2,
      "outputs": [
        {
          "output_type": "stream",
          "name": "stdout",
          "text": [
            "Mounted at /gdrive\n"
          ]
        }
      ]
    },
    {
      "cell_type": "code",
      "metadata": {
        "id": "JBGiT1Qw_Qzo",
        "colab": {
          "base_uri": "https://localhost:8080/"
        },
        "outputId": "658e945e-bb21-43f6-fb7a-18daab8ff2ee"
      },
      "source": [
        "import numpy as np\n",
        "import torch\n",
        "\n",
        "# 데이터 읽기 함수\n",
        "def load_dataset(file):\n",
        "    data = np.loadtxt(file)\n",
        "    print(\"DATA=\", data)\n",
        "\n",
        "    x = data[:,0:-1]\n",
        "    # 왜 0이 아니라 0:-1로 했을까? -> 0번째부터 맨 마지막 index라는 뜻 -> 0:1과 똑같음 -> 0번째부터 1번째 '앞'까지 slicing -> 0번째 열만 slicing하는 것과 동치\n",
        "    # data가 만약에 다차원일 경우 Y data 바로 직전 열까지 slicing 해야되므로 [:,0:-1]을 사용\n",
        "    print(\"X=\", x)\n",
        "\n",
        "    y = np.reshape(data[:, -1], (data.shape[0], 1))\n",
        "    # reshape를 하게 되면 [1, 2, 3] 꼴로 가져오게 됨. -> reshape(. , (3,1))을 하게 되면 3행 1열 꼴로 가져오게 됨.\n",
        "    # reshape을 통해 X와 같은 행과 열 꼴로 바꿔줌.\n",
        "    print(\"Y=\", y)\n",
        "\n",
        "    # 텐서로 변환\n",
        "    x = torch.tensor(x, dtype=torch.float)\n",
        "    y = torch.tensor(y, dtype=torch.float)\n",
        "    return (x, y)\n",
        "\n",
        "def tensor2list(input_tensor):\n",
        "    return input_tensor.cpu().detach().numpy().tolist()\n",
        "\n",
        "x, y = load_dataset(\"/gdrive/My Drive/machinelearning/2주차/train2.txt\")\n",
        "\n",
        "m, n = x.size()\n",
        "\n",
        "# 가중치 초기화\n",
        "w = torch.randn(n, 1) * 3.0\n",
        "print(\"\\nInit: w = {0}\\n\".format(tensor2list(w.T)))\n",
        "\n",
        "# 학습률\n",
        "alpha = 0.1\n",
        "\n",
        "for epoch in range(50):\n",
        "\n",
        "    cost = torch.zeros_like(w)\n",
        "\n",
        "    for i in range(m):\n",
        "        xi = x[i].view(n, 1)\n",
        "        yi = y[i].view(1, 1)\n",
        "\n",
        "        y_hat = xi.T @ w\n",
        "        err = y_hat - yi\n",
        "        cost += xi * err\n",
        "\n",
        "    cost = cost / m\n",
        "    w = w - alpha * cost\n",
        "\n",
        "    print(\"Epoch {0:d}: w = {1}\".format(epoch + 1, tensor2list(w.T)))\n"
      ],
      "execution_count": 5,
      "outputs": [
        {
          "output_type": "stream",
          "name": "stdout",
          "text": [
            "DATA= [[1. 2. 3.]\n",
            " [4. 1. 5.]\n",
            " [3. 5. 8.]]\n",
            "X= [[1. 2.]\n",
            " [4. 1.]\n",
            " [3. 5.]]\n",
            "Y= [[3.]\n",
            " [5.]\n",
            " [8.]]\n",
            "\n",
            "Init: w = [[2.3501806259155273, -4.134218692779541]]\n",
            "\n",
            "Epoch 1: w = [[4.773977279663086, 0.05487346649169922]]\n",
            "Epoch 2: w = [[2.164785385131836, -1.6417840719223022]]\n",
            "Epoch 3: w = [[3.0045535564422607, 0.18465030193328857]]\n",
            "Epoch 4: w = [[1.8380186557769775, -0.40318745374679565]]\n",
            "Epoch 5: w = [[2.0939669609069824, 0.4133869409561157]]\n",
            "Epoch 6: w = [[1.5564913749694824, 0.23422305285930634]]\n",
            "Epoch 7: w = [[1.6102427244186401, 0.6104560494422913]]\n",
            "Epoch 8: w = [[1.3540464639663696, 0.572830080986023]]\n",
            "Epoch 9: w = [[1.3462251424789429, 0.7521674633026123]]\n",
            "Epoch 10: w = [[1.2196460962295532, 0.757642388343811]]\n",
            "Epoch 11: w = [[1.1989364624023438, 0.8462477326393127]]\n",
            "Epoch 12: w = [[1.1341514587402344, 0.8607444763183594]]\n",
            "Epoch 13: w = [[1.115365743637085, 0.906093955039978]]\n",
            "Epoch 14: w = [[1.0811163187026978, 0.9192439913749695]]\n",
            "Epoch 15: w = [[1.0673446655273438, 0.9432185292243958]]\n",
            "Epoch 16: w = [[1.0487263202667236, 0.9528587460517883]]\n",
            "Epoch 17: w = [[1.0394957065582275, 0.9658915400505066]]\n",
            "Epoch 18: w = [[1.0291420221328735, 0.9723530411720276]]\n",
            "Epoch 19: w = [[1.0232384204864502, 0.9796005487442017]]\n",
            "Epoch 20: w = [[1.0173780918121338, 0.9837331175804138]]\n",
            "Epoch 21: w = [[1.0137039422988892, 0.9878353476524353]]\n",
            "Epoch 22: w = [[1.0103424787521362, 0.9904072284698486]]\n",
            "Epoch 23: w = [[1.0080938339233398, 0.9927602410316467]]\n",
            "Epoch 24: w = [[1.006147027015686, 0.9943342804908752]]\n",
            "Epoch 25: w = [[1.0047855377197266, 0.995697021484375]]\n",
            "Epoch 26: w = [[1.003650188446045, 0.9966500997543335]]\n",
            "Epoch 27: w = [[1.0028315782546997, 0.9974448680877686]]\n",
            "Epoch 28: w = [[1.0021661520004272, 0.9980179071426392]]\n",
            "Epoch 29: w = [[1.001676321029663, 0.9984837174415588]]\n",
            "Epoch 30: w = [[1.0012849569320679, 0.9988265633583069]]\n",
            "Epoch 31: w = [[1.000992774963379, 0.9991005063056946]]\n",
            "Epoch 32: w = [[1.0007619857788086, 0.9993050694465637]]\n",
            "Epoch 33: w = [[1.000588059425354, 0.999466598033905]]\n",
            "Epoch 34: w = [[1.0004518032073975, 0.9995883107185364]]\n",
            "Epoch 35: w = [[1.0003483295440674, 0.999683678150177]]\n",
            "Epoch 36: w = [[1.0002678632736206, 0.9997560977935791]]\n",
            "Epoch 37: w = [[1.0002063512802124, 0.9998124837875366]]\n",
            "Epoch 38: w = [[1.0001587867736816, 0.9998555779457092]]\n",
            "Epoch 39: w = [[1.000122308731079, 0.9998888373374939]]\n",
            "Epoch 40: w = [[1.0000940561294556, 0.9999144077301025]]\n",
            "Epoch 41: w = [[1.0000724792480469, 0.999934196472168]]\n",
            "Epoch 42: w = [[1.0000556707382202, 0.9999492764472961]]\n",
            "Epoch 43: w = [[1.0000429153442383, 0.9999610781669617]]\n",
            "Epoch 44: w = [[1.0000330209732056, 0.9999699592590332]]\n",
            "Epoch 45: w = [[1.0000253915786743, 0.9999768733978271]]\n",
            "Epoch 46: w = [[1.0000195503234863, 0.9999821782112122]]\n",
            "Epoch 47: w = [[1.0000150203704834, 0.9999863505363464]]\n",
            "Epoch 48: w = [[1.0000115633010864, 0.9999895095825195]]\n",
            "Epoch 49: w = [[1.0000088214874268, 0.9999918937683105]]\n",
            "Epoch 50: w = [[1.000006914138794, 0.9999938607215881]]\n"
          ]
        }
      ]
    }
  ]
}